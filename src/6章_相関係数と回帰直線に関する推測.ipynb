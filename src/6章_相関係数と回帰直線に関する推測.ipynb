{
 "cells": [
  {
   "cell_type": "markdown",
   "id": "4ee30f1d",
   "metadata": {},
   "source": [
    "# 朝倉書店「医学への統計学」6章 相関係数と回帰直線に関する推測"
   ]
  },
  {
   "cell_type": "markdown",
   "id": "0005d395",
   "metadata": {},
   "source": [
    "例題をJuliaを使って解いてみる。"
   ]
  },
  {
   "cell_type": "code",
   "execution_count": 43,
   "id": "dd61a2f5",
   "metadata": {},
   "outputs": [],
   "source": [
    "using Distributions\n",
    "using HypothesisTests\n",
    "using Plots"
   ]
  },
  {
   "cell_type": "markdown",
   "id": "ec629d03",
   "metadata": {},
   "source": [
    "## 例題6.1"
   ]
  },
  {
   "cell_type": "markdown",
   "id": "4bb1b16c",
   "metadata": {},
   "source": [
    "ある健康センターの、男性受診者53名のデータを用いて、Hb、Na、UA、Alb、T-Cholの5項目間の相関係数を計算した。HbとNa間の相関係数は0.015（データ数は43）、HbとUA間の相関係数は-0.533（データ数は35）であった。有意性の検定を行え。"
   ]
  },
  {
   "cell_type": "code",
   "execution_count": 13,
   "id": "ee0ea7c8",
   "metadata": {},
   "outputs": [
    {
     "data": {
      "text/plain": [
       "calc_t_stat (generic function with 2 methods)"
      ]
     },
     "execution_count": 13,
     "metadata": {},
     "output_type": "execute_result"
    }
   ],
   "source": [
    "# 統計量の関数を定義\n",
    "function calc_t_stat(r, n, α)\n",
    "    nume = r * √(n-2) \n",
    "    denom = √(1-r^2)\n",
    "    t_stat = abs(nume/denom)\n",
    "    upper = cquantile.(TDist(n-2), α/2)\n",
    "    return t_stat, upper\n",
    "end"
   ]
  },
  {
   "cell_type": "code",
   "execution_count": 18,
   "id": "149d46f3",
   "metadata": {},
   "outputs": [
    {
     "name": "stdout",
     "output_type": "stream",
     "text": [
      "HbとNa間の統計量: 0.096\n",
      "上側パーセント点（有意水準5%）: 2.02\n",
      "上側パーセント点（有意水準0.1%）: 3.544\n"
     ]
    }
   ],
   "source": [
    "# HbとNa間\n",
    "r1 = 0.015; n1 = 43\n",
    "α = [0.05, 0.001]\n",
    "t_stat1, upper1 = calc_t_stat(r1, n1, α)\n",
    "println(\"HbとNa間の統計量: \", round(t_stat1, digits=3))\n",
    "println(\"上側パーセント点（有意水準5%）: \", round(upper1[1], digits=3))\n",
    "println(\"上側パーセント点（有意水準0.1%）: \", round(upper1[2], digits=3))"
   ]
  },
  {
   "cell_type": "code",
   "execution_count": 16,
   "id": "485e61ec",
   "metadata": {},
   "outputs": [
    {
     "name": "stdout",
     "output_type": "stream",
     "text": [
      "HbとUA間の統計量: 3.619\n",
      "上側パーセント点（有意水準5%）: 2.035\n",
      "上側パーセント点（有意水準0.1%）: 3.611\n"
     ]
    }
   ],
   "source": [
    "# HbとUA間\n",
    "r2 = -0.533; n2 = 35\n",
    "α = [0.05, 0.001]\n",
    "t_stat2, upper2 = calc_t_stat(r2, n2, α)\n",
    "println(\"HbとUA間の統計量: \", round(t_stat2, digits=3))\n",
    "println(\"上側パーセント点（有意水準5%）: \", round(upper2[1], digits=3))\n",
    "println(\"上側パーセント点（有意水準0.1%）: \", round(upper2[2], digits=3))"
   ]
  },
  {
   "cell_type": "markdown",
   "id": "bc874de1",
   "metadata": {},
   "source": [
    "よって、HbとUA間は有意水準0.1%で有意であった。"
   ]
  },
  {
   "cell_type": "markdown",
   "id": "2e88cb55",
   "metadata": {},
   "source": [
    "## 例題6.2"
   ]
  },
  {
   "cell_type": "markdown",
   "id": "f89b7d72",
   "metadata": {},
   "source": [
    "例題6.1のHbとUA間の相関係数の95%信頼区間を求めよ。"
   ]
  },
  {
   "cell_type": "code",
   "execution_count": 26,
   "id": "2a93b258",
   "metadata": {},
   "outputs": [
    {
     "data": {
      "text/plain": [
       "confidence_interval (generic function with 1 method)"
      ]
     },
     "execution_count": 26,
     "metadata": {},
     "output_type": "execute_result"
    }
   ],
   "source": [
    "# 信頼区間の関数を定義\n",
    "function confidence_interval(r, n, α)\n",
    "    a = 0.5 * log((1+r)/(1-r)) - 1/√(n-3) * cquantile(Normal(0, 1), α/2)\n",
    "    b = 0.5 * log((1+r)/(1-r)) + 1/√(n-3) * cquantile(Normal(0, 1), α/2)\n",
    "    lower = (exp(2*a)-1) / (exp(2*a) + 1)\n",
    "    upper = (exp(2*b)-1) / (exp(2*b) + 1)\n",
    "    return lower, upper\n",
    "end"
   ]
  },
  {
   "cell_type": "code",
   "execution_count": 30,
   "id": "adede2de",
   "metadata": {},
   "outputs": [
    {
     "name": "stdout",
     "output_type": "stream",
     "text": [
      "-0.736 ≤ ρ ≤ -0.243\n"
     ]
    }
   ],
   "source": [
    "r = -0.533; n = 35; α = 0.05\n",
    "lower, upper = confidence_interval(r, n, α)\n",
    "println(round(lower, digits=3), \" ≤ ρ ≤ \", round(upper, digits=3))"
   ]
  },
  {
   "cell_type": "markdown",
   "id": "d145b08b",
   "metadata": {},
   "source": [
    "## 例題6.3"
   ]
  },
  {
   "cell_type": "markdown",
   "id": "d33d1193",
   "metadata": {},
   "source": [
    "例題6.1で今度は女性の受診者だけで相関係数を求めたところ、UAとAlbの相関係数は$r_B$=-0.0971($n_B$=24)と得られた。この二つの項目間の男性の相関係数は$r_A$=-0.459($n_A$=30)となっている。性差は認められるか。"
   ]
  },
  {
   "cell_type": "code",
   "execution_count": 38,
   "id": "dc299e74",
   "metadata": {},
   "outputs": [
    {
     "data": {
      "text/plain": [
       "calc_t_stat (generic function with 3 methods)"
      ]
     },
     "execution_count": 38,
     "metadata": {},
     "output_type": "execute_result"
    }
   ],
   "source": [
    "# 統計量の関数を定義\n",
    "function calc_t_stat(r1, r2, n1, n2, α)\n",
    "    nume = 0.5*log((1+r1)/(1-r1)) - 0.5*log((1+r2)/(1-r2))\n",
    "    denom = √((1/(n1-3)) + (1/(n2-3)))\n",
    "    t_stat = abs(nume/denom)\n",
    "    upper = cquantile(Normal(0, 1), α/2)\n",
    "    println(\"統計量: \", round(t_stat, digits=3))\n",
    "    println(\"上側パーセント点 (α=$α): \", round(upper, digits=3))\n",
    "end"
   ]
  },
  {
   "cell_type": "code",
   "execution_count": 39,
   "id": "7ad61cd4",
   "metadata": {},
   "outputs": [
    {
     "name": "stdout",
     "output_type": "stream",
     "text": [
      "統計量: 1.37\n",
      "上側パーセント点 (α=0.05): 1.96\n"
     ]
    }
   ],
   "source": [
    "r1 = -0.459; r2 = -0.0971; n1 = 30; n2 = 24; α = 0.05\n",
    "calc_t_stat(r1, r2, n1, n2, α)"
   ]
  },
  {
   "cell_type": "markdown",
   "id": "1fcedb2c",
   "metadata": {},
   "source": [
    "よって、性差は有意水準5%で認められない。"
   ]
  },
  {
   "cell_type": "markdown",
   "id": "fad4fa6d",
   "metadata": {},
   "source": [
    "## 例題6.4"
   ]
  },
  {
   "cell_type": "markdown",
   "id": "b0d175ef",
   "metadata": {},
   "source": [
    "いくつかの地域での、3〜4歳児のむし歯保有率とむし歯罹患型の関連を調査したところ、ある型のむし歯罹患率との関連データを得た。このデータから相関が認められるか。"
   ]
  },
  {
   "cell_type": "code",
   "execution_count": 44,
   "id": "1c33939c",
   "metadata": {},
   "outputs": [],
   "source": [
    "むし歯保有率 = [33, 24, 30, 50, 42, 15, 5, 56, 13, 45, 44, 21, 8, 31, 27, 40]\n",
    "むし歯罹患率 = [20, 4, 50, 10, 78, 3, 2, 4, 6, 56, 42, 5, 5, 71, 9, 6];"
   ]
  },
  {
   "cell_type": "code",
   "execution_count": 53,
   "id": "14c55c4a",
   "metadata": {},
   "outputs": [
    {
     "data": {
      "text/plain": [
       "calc_t_stat (generic function with 3 methods)"
      ]
     },
     "execution_count": 53,
     "metadata": {},
     "output_type": "execute_result"
    }
   ],
   "source": [
    "# 統計量の関数を定義\n",
    "using StatsBase\n",
    "\n",
    "function calc_t_stat(d1, d2, α)    \n",
    "    r_s = corspearman(d1, d2)  # StatsBase.ji\n",
    "    n = length(d1)\n",
    "    nume = r_s * √(n-2)\n",
    "    denom = √(1-r_s^2)\n",
    "    t_stat = abs(nume/denom)\n",
    "    upper = cquantile(TDist(n-2), α/2)\n",
    "    println(\"Spearmanの順位相関係数: \", round(r_s, digits=3))\n",
    "    println(\"統計量: \", round(t_stat, digits=3))\n",
    "    println(\"上側パーセント点 (α=$α): \", round(upper, digits=3))\n",
    "end"
   ]
  },
  {
   "cell_type": "code",
   "execution_count": 54,
   "id": "fa646b30",
   "metadata": {},
   "outputs": [
    {
     "name": "stdout",
     "output_type": "stream",
     "text": [
      "Spearmanの順位相関係数: 0.529\n",
      "統計量: 2.333\n",
      "上側パーセント点 (α=0.05): 2.145\n"
     ]
    }
   ],
   "source": [
    "calc_t_stat(むし歯保有率, むし歯罹患率, 0.05)"
   ]
  },
  {
   "cell_type": "markdown",
   "id": "763a059b",
   "metadata": {},
   "source": [
    "よって、有意水準5%で相関が認められる。"
   ]
  },
  {
   "cell_type": "code",
   "execution_count": null,
   "id": "c04f2387",
   "metadata": {},
   "outputs": [],
   "source": []
  },
  {
   "cell_type": "code",
   "execution_count": null,
   "id": "8bc56726",
   "metadata": {},
   "outputs": [],
   "source": []
  },
  {
   "cell_type": "code",
   "execution_count": null,
   "id": "6b3dce95",
   "metadata": {},
   "outputs": [],
   "source": []
  },
  {
   "cell_type": "code",
   "execution_count": null,
   "id": "1ceb34fe",
   "metadata": {},
   "outputs": [],
   "source": []
  },
  {
   "cell_type": "code",
   "execution_count": null,
   "id": "52f43705",
   "metadata": {},
   "outputs": [],
   "source": []
  },
  {
   "cell_type": "code",
   "execution_count": null,
   "id": "8ba548b4",
   "metadata": {},
   "outputs": [],
   "source": []
  }
 ],
 "metadata": {
  "kernelspec": {
   "display_name": "Julia 1.7.0",
   "language": "julia",
   "name": "julia-1.7"
  },
  "language_info": {
   "file_extension": ".jl",
   "mimetype": "application/julia",
   "name": "julia",
   "version": "1.7.2"
  }
 },
 "nbformat": 4,
 "nbformat_minor": 5
}
