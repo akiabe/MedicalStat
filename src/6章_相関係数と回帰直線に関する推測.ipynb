{
 "cells": [
  {
   "cell_type": "markdown",
   "id": "4ee30f1d",
   "metadata": {},
   "source": [
    "# 朝倉書店「医学への統計学」6章 相関係数と回帰直線に関する推測"
   ]
  },
  {
   "cell_type": "markdown",
   "id": "0005d395",
   "metadata": {},
   "source": [
    "例題をJuliaを使って解いてみる。"
   ]
  },
  {
   "cell_type": "code",
   "execution_count": 9,
   "id": "dd61a2f5",
   "metadata": {},
   "outputs": [],
   "source": [
    "using Distributions\n",
    "using HypothesisTests\n",
    "using Plots"
   ]
  },
  {
   "cell_type": "markdown",
   "id": "fff06f03",
   "metadata": {},
   "source": [
    "# 6.1.1 母相関係数$\\rho$の検定"
   ]
  },
  {
   "cell_type": "markdown",
   "id": "ec629d03",
   "metadata": {},
   "source": [
    "## 例題6.1"
   ]
  },
  {
   "cell_type": "markdown",
   "id": "4bb1b16c",
   "metadata": {},
   "source": [
    "ある健康センターの、男性受診者53名のデータを用いて、Hb、Na、UA、Alb、T-Cholの5項目間の相関係数を計算した。HbとNa間の相関係数は0.015（データ数は43）、HbとUA間の相関係数は-0.533（データ数は35）であった。有意性の検定を行え。"
   ]
  },
  {
   "cell_type": "code",
   "execution_count": 13,
   "id": "ee0ea7c8",
   "metadata": {},
   "outputs": [
    {
     "data": {
      "text/plain": [
       "calc_t_stat (generic function with 2 methods)"
      ]
     },
     "execution_count": 13,
     "metadata": {},
     "output_type": "execute_result"
    }
   ],
   "source": [
    "# 統計量の関数を定義\n",
    "function calc_t_stat(r, n, α)\n",
    "    nume = r * √(n-2) \n",
    "    denom = √(1-r^2)\n",
    "    t_stat = abs(nume/denom)\n",
    "    upper = cquantile.(TDist(n-2), α/2)\n",
    "    return t_stat, upper\n",
    "end"
   ]
  },
  {
   "cell_type": "code",
   "execution_count": 18,
   "id": "149d46f3",
   "metadata": {},
   "outputs": [
    {
     "name": "stdout",
     "output_type": "stream",
     "text": [
      "HbとNa間の統計量: 0.096\n",
      "上側パーセント点（有意水準5%）: 2.02\n",
      "上側パーセント点（有意水準0.1%）: 3.544\n"
     ]
    }
   ],
   "source": [
    "# HbとNa間\n",
    "r1 = 0.015; n1 = 43\n",
    "α = [0.05, 0.001]\n",
    "t_stat1, upper1 = calc_t_stat(r1, n1, α)\n",
    "println(\"HbとNa間の統計量: \", round(t_stat1, digits=3))\n",
    "println(\"上側パーセント点（有意水準5%）: \", round(upper1[1], digits=3))\n",
    "println(\"上側パーセント点（有意水準0.1%）: \", round(upper1[2], digits=3))"
   ]
  },
  {
   "cell_type": "code",
   "execution_count": 16,
   "id": "485e61ec",
   "metadata": {},
   "outputs": [
    {
     "name": "stdout",
     "output_type": "stream",
     "text": [
      "HbとUA間の統計量: 3.619\n",
      "上側パーセント点（有意水準5%）: 2.035\n",
      "上側パーセント点（有意水準0.1%）: 3.611\n"
     ]
    }
   ],
   "source": [
    "# HbとUA間\n",
    "r2 = -0.533; n2 = 35\n",
    "α = [0.05, 0.001]\n",
    "t_stat2, upper2 = calc_t_stat(r2, n2, α)\n",
    "println(\"HbとUA間の統計量: \", round(t_stat2, digits=3))\n",
    "println(\"上側パーセント点（有意水準5%）: \", round(upper2[1], digits=3))\n",
    "println(\"上側パーセント点（有意水準0.1%）: \", round(upper2[2], digits=3))"
   ]
  },
  {
   "cell_type": "markdown",
   "id": "25984987",
   "metadata": {},
   "source": [
    "よって、HbとUA間は有意水準0.1%で有意であった。"
   ]
  },
  {
   "cell_type": "markdown",
   "id": "c2fea668",
   "metadata": {},
   "source": [
    "# 6.1.2 母相関係数$\\rho$の信頼区間"
   ]
  },
  {
   "cell_type": "markdown",
   "id": "59d662dc",
   "metadata": {},
   "source": [
    "例題6.1のHbとUA間の相関係数の95%信頼区間を求めよ。"
   ]
  },
  {
   "cell_type": "code",
   "execution_count": null,
   "id": "295fbc54",
   "metadata": {},
   "outputs": [],
   "source": [
    "# 信頼区間の関数を定義\n",
    "function confidence_interval(r, n, α)\n",
    "    a = 0.5 * log((1+r)/(1-r)) - 1/√(n-3) * cquantile(Normal(0, 1), α/2)\n",
    "    b = 0.5 * log((1+r)/(1-r)) + 1/√(n-3) * cquantile(Normal(0, 1), α/2)\n",
    "    ρ_lower = \n",
    "    ρ_upper\n",
    "end"
   ]
  },
  {
   "cell_type": "code",
   "execution_count": 21,
   "id": "979e0e88",
   "metadata": {},
   "outputs": [
    {
     "data": {
      "text/plain": [
       "-0.9408022666888788"
      ]
     },
     "execution_count": 21,
     "metadata": {},
     "output_type": "execute_result"
    }
   ],
   "source": [
    "r = -0.533\n",
    "n = 35\n",
    "α = 0.05\n",
    "0.5 * log((1+r)/(1-r)) - 1/√(n-3) * cquantile(Normal(0, 1), α/2)"
   ]
  },
  {
   "cell_type": "code",
   "execution_count": null,
   "id": "61f4a5cf",
   "metadata": {},
   "outputs": [],
   "source": [
    "0.5 * log((1+r)/(1-r)) - 1/√(n-3) * cquantile(Normal(0, 1), α/2)"
   ]
  },
  {
   "cell_type": "code",
   "execution_count": null,
   "id": "5750ec97",
   "metadata": {},
   "outputs": [],
   "source": []
  },
  {
   "cell_type": "code",
   "execution_count": null,
   "id": "51c30e6e",
   "metadata": {},
   "outputs": [],
   "source": []
  },
  {
   "cell_type": "code",
   "execution_count": null,
   "id": "8d172bef",
   "metadata": {},
   "outputs": [],
   "source": []
  }
 ],
 "metadata": {
  "kernelspec": {
   "display_name": "Julia 1.7.0",
   "language": "julia",
   "name": "julia-1.7"
  },
  "language_info": {
   "file_extension": ".jl",
   "mimetype": "application/julia",
   "name": "julia",
   "version": "1.7.2"
  }
 },
 "nbformat": 4,
 "nbformat_minor": 5
}
