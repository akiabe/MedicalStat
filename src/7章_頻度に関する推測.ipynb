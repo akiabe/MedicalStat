{
 "cells": [
  {
   "cell_type": "markdown",
   "id": "4ee30f1d",
   "metadata": {},
   "source": [
    "# 朝倉書店「医学への統計学」7章 頻度に関する推測"
   ]
  },
  {
   "cell_type": "markdown",
   "id": "0005d395",
   "metadata": {},
   "source": [
    "例題をJuliaを使って解いてみる。"
   ]
  },
  {
   "cell_type": "code",
   "execution_count": 56,
   "id": "4765e3d0",
   "metadata": {},
   "outputs": [],
   "source": [
    "using Distributions\n",
    "using HypothesisTests"
   ]
  },
  {
   "cell_type": "markdown",
   "id": "9939ebbe",
   "metadata": {},
   "source": [
    "## 例題7.1"
   ]
  },
  {
   "cell_type": "markdown",
   "id": "d8c81785",
   "metadata": {},
   "source": [
    "ある疾患の罹患状況を調査する目的で、100人を1年間追跡する計画を立てた。その結果、4人は、それぞれ、0.4、0.5、0.7、0.9年で罹患し、2人は、それぞれ、0.2、0.8年追跡したところで追跡不能（lost to follow-up）となり、残りの94人は1年間罹患しなかった。この場合の人年と罹患率を求めよ。"
   ]
  },
  {
   "cell_type": "code",
   "execution_count": 14,
   "id": "a40d72a2",
   "metadata": {},
   "outputs": [
    {
     "name": "stdout",
     "output_type": "stream",
     "text": [
      "人年: 97.5\n",
      "罹患率（人/1000人年）: 41.03\n"
     ]
    }
   ],
   "source": [
    "person_years = (0.4+0.5+0.7+0.9) + (0.2+0.8) + 1.0*94\n",
    "incidence_case = 4\n",
    "incidence_rate = (incidence_case / person_years) * 1000\n",
    "println(\"人年: \", person_years)\n",
    "println(\"罹患率（人/1000人年）: \", round(incidence_rate, digits=2))"
   ]
  },
  {
   "cell_type": "markdown",
   "id": "4a231da8",
   "metadata": {},
   "source": [
    "## 例題7.2"
   ]
  },
  {
   "cell_type": "markdown",
   "id": "bd6174da",
   "metadata": {},
   "source": [
    "大気汚染の汚染地区に指定されているA地区の住民676名を無作為に抽出し、94%の635名について回答を得た（回答率94%）。その中で、’持続性せき’の症状を持っていた者が68名いた。’持続性せき’の全国平均の割合は8.2%であるが、この地区の割合は全国平均と比べて高いと言えるか。また、この地区の有症率の95%信頼区間を求めよ。"
   ]
  },
  {
   "cell_type": "code",
   "execution_count": 38,
   "id": "b1505a56",
   "metadata": {},
   "outputs": [
    {
     "data": {
      "text/plain": [
       "calc_confidence_intervals (generic function with 1 method)"
      ]
     },
     "execution_count": 38,
     "metadata": {},
     "output_type": "execute_result"
    }
   ],
   "source": [
    "function calc_z_stat(n, p_0, p_hat, α)\n",
    "    nume = abs(p_hat - p_0) - 1/(2*n)\n",
    "    denom = √((p_0*(1-p_0))/n)\n",
    "    z_stat = nume / denom\n",
    "    p_point = cquantile(Normal(0, 1), α/2)\n",
    "    return z_stat, p_point\n",
    "end\n",
    "\n",
    "\n",
    "function calc_confidence_intervals(n, p_hat, p_point)\n",
    "    lower = p_hat - p_point*√((p_hat*(1-p_hat))/n)\n",
    "    upper = p_hat + p_point*√((p_hat*(1-p_hat))/n)\n",
    "    return lower, upper\n",
    "end"
   ]
  },
  {
   "cell_type": "code",
   "execution_count": 40,
   "id": "1ceb34fe",
   "metadata": {},
   "outputs": [
    {
     "name": "stdout",
     "output_type": "stream",
     "text": [
      "統計量: 2.232\n",
      "上側パーセント点(α=0.05): 1.96\n",
      "0.083 ≤ p ≤ 0.131\n"
     ]
    }
   ],
   "source": [
    "r = 68\n",
    "n = 635\n",
    "p_0 = 0.082\n",
    "p_hat = r / n\n",
    "α = 0.05\n",
    "\n",
    "z_stat, p_point = calc_z_stat(n, p_0, p_hat, α)\n",
    "lower, upper = calc_confidence_intervals(n, p_hat, p_point)\n",
    "\n",
    "println(\"統計量: \", round(z_stat, digits=3))\n",
    "println(\"上側パーセント点(α=0.05): \", round(p_point, digits=3))\n",
    "println(round(lower, digits=3), \" ≤ p ≤ \", round(upper, digits=3))"
   ]
  },
  {
   "cell_type": "markdown",
   "id": "dd702d7b",
   "metadata": {},
   "source": [
    "従って、有意水準5%で全国平均より高く、95%信頼区間は8.3〜13.1%となる。"
   ]
  },
  {
   "cell_type": "markdown",
   "id": "307dddb9",
   "metadata": {},
   "source": [
    "## 例題7.3"
   ]
  },
  {
   "cell_type": "markdown",
   "id": "05bbc0b5",
   "metadata": {},
   "source": [
    "狭心症に対して有効な交感神経$\\beta$ブロッカーとして使われているA薬の治療効果はだいたい65%であることが知られている。今度、新しく開発されたB薬の治療効果について試験を行ったところ、43例中31名に効果が認められるという結果を得た。B薬は旧来のA薬に比べて優れていると判定できるか。また、B薬による治療効果の割合の95%信頼区間を求めよ。"
   ]
  },
  {
   "cell_type": "code",
   "execution_count": 41,
   "id": "50bca534",
   "metadata": {},
   "outputs": [
    {
     "name": "stdout",
     "output_type": "stream",
     "text": [
      "統計量: 0.815\n",
      "上側パーセント点(α=0.05): 1.96\n",
      "0.587 ≤ p ≤ 0.855\n"
     ]
    }
   ],
   "source": [
    "r = 31\n",
    "n = 43\n",
    "p_0 = 0.65\n",
    "p_hat = r / n\n",
    "α = 0.05\n",
    "\n",
    "z_stat, p_point = calc_z_stat(n, p_0, p_hat, α)\n",
    "lower, upper = calc_confidence_intervals(n, p_hat, p_point)\n",
    "\n",
    "println(\"統計量: \", round(z_stat, digits=3))\n",
    "println(\"上側パーセント点(α=0.05): \", round(p_point, digits=3))\n",
    "println(round(lower, digits=3), \" ≤ p ≤ \", round(upper, digits=3))"
   ]
  },
  {
   "cell_type": "markdown",
   "id": "b7d3182e",
   "metadata": {},
   "source": [
    "従って、有意水準5%で旧来のA薬よりB薬の方が優れているとは認められない。B薬の治療効果が期待できる割合の95%信頼区間は58.7〜85.5%となる。"
   ]
  },
  {
   "cell_type": "markdown",
   "id": "b4a08d9a",
   "metadata": {},
   "source": [
    "## 例題7.4"
   ]
  },
  {
   "cell_type": "markdown",
   "id": "7d0dfbe9",
   "metadata": {},
   "source": [
    "心筋梗塞と食品抗体に関する研究で、牛乳蛋白に対する抗体の有無によって、心筋梗塞発作後6カ月以内に死亡する割合が変化するかどうかを213名の心筋梗塞患者について調べた。牛乳抗体の陽性・陰性により発作後6カ月以内の死亡の割合に差があるか、また差の95%信頼区間を求めよ。"
   ]
  },
  {
   "cell_type": "code",
   "execution_count": 52,
   "id": "d808d384",
   "metadata": {},
   "outputs": [
    {
     "data": {
      "text/plain": [
       "calc_z_stat (generic function with 3 methods)"
      ]
     },
     "execution_count": 52,
     "metadata": {},
     "output_type": "execute_result"
    }
   ],
   "source": [
    "function calc_z_stat(n₁, n₂, r₁, r₂, α)\n",
    "    p̂₁ = r₁ / n₁\n",
    "    p̂₂ = r₂ / n₂\n",
    "    p̄ = (r₁+r₂) / (n₁+n₂)\n",
    "    q̄ = 1 - p̄\n",
    "    nume = abs(p̂₁-p̂₂) - 0.5*(1/n₁ + 1/n₂)\n",
    "    denom = √(p̄*q̄ * (1/n₁ + 1/n₂))\n",
    "    z_stat = nume / denom\n",
    "    p_point = cquantile(Normal(0, 1), α/2)\n",
    "    return p̂₁, p̂₂, z_stat, p_point\n",
    "end"
   ]
  },
  {
   "cell_type": "code",
   "execution_count": 53,
   "id": "b577c801",
   "metadata": {},
   "outputs": [
    {
     "data": {
      "text/plain": [
       "calc_confidence_intervals (generic function with 2 methods)"
      ]
     },
     "execution_count": 53,
     "metadata": {},
     "output_type": "execute_result"
    }
   ],
   "source": [
    "function calc_confidence_intervals(n₁, n₂, p̂₁, p̂₂, p_point)\n",
    "    lower = p̂₁ - p̂₂ - p_point * √((p̂₁*(1-p̂₁))/n₁ +(p̂₂*(1-p̂₂))/n₂)\n",
    "    upper = p̂₁ - p̂₂ + p_point * √((p̂₁*(1-p̂₁))/n₁ +(p̂₂*(1-p̂₂))/n₂)\n",
    "    return lower, upper\n",
    "end"
   ]
  },
  {
   "cell_type": "code",
   "execution_count": 54,
   "id": "48edfe04",
   "metadata": {},
   "outputs": [
    {
     "name": "stdout",
     "output_type": "stream",
     "text": [
      "牛乳抗体陽性の場合の6カ月以内の死亡率: 0.266\n",
      "牛乳抗体陰性の場合の6カ月以内の死亡率: 0.096\n",
      "統計量: 3.028\n",
      "上側パーセント点(α=0.05): 1.96\n",
      "0.069 ≤ p₁-p₂ ≤ 0.27\n"
     ]
    }
   ],
   "source": [
    "n₁ = 109\n",
    "n₂ = 104\n",
    "r₁ = 29\n",
    "r₂ = 10\n",
    "α = 0.05\n",
    "\n",
    "p̂₁, p̂₂, z_stat, p_point = calc_z_stat(n₁, n₂, r₁, r₂, α)\n",
    "lower, upper = calc_confidence_intervals(n₁, n₂, p̂₁, p̂₂, p_point)\n",
    "\n",
    "println(\"牛乳抗体陽性の場合の6カ月以内の死亡率: \", round(p̂₁, digits=3))\n",
    "println(\"牛乳抗体陰性の場合の6カ月以内の死亡率: \", round(p̂₂, digits=3))\n",
    "println(\"統計量: \", round(z_stat, digits=3))\n",
    "println(\"上側パーセント点(α=$α): \", round(p_point, digits=3))\n",
    "println(round(lower, digits=3), \" ≤ p₁-p₂ ≤ \", round(upper, digits=3))"
   ]
  },
  {
   "cell_type": "markdown",
   "id": "e1239c97",
   "metadata": {},
   "source": [
    "従って、有意水準5%で牛乳抗体陽性の方が発作後6カ月以内の死亡の割合が高く、その差の95%信頼区間は0.069〜0.27となる。"
   ]
  },
  {
   "cell_type": "markdown",
   "id": "99dd7d9f",
   "metadata": {},
   "source": [
    "## 例題7.5"
   ]
  },
  {
   "cell_type": "markdown",
   "id": "943d99da",
   "metadata": {},
   "source": [
    "例題7.4をカイ二乗検定で行え。"
   ]
  },
  {
   "cell_type": "code",
   "execution_count": 63,
   "id": "7f145060",
   "metadata": {},
   "outputs": [
    {
     "data": {
      "text/plain": [
       "calc_chi_square_stat (generic function with 2 methods)"
      ]
     },
     "execution_count": 63,
     "metadata": {},
     "output_type": "execute_result"
    }
   ],
   "source": [
    "function calc_chi_square_stat(a, b, c, d, α)\n",
    "    n1 = a + b\n",
    "    n2 = c + d\n",
    "    N = n1 + n2\n",
    "    m1 = a + c\n",
    "    m2 = b + d\n",
    "    nume = N * (abs(a*d - b*c) - N/2)^2\n",
    "    denom = n1 * n2 * m1 *m2 \n",
    "    chi_square_stat = nume / denom\n",
    "    p_point = cquantile(Chisq(1), α)\n",
    "    return chi_square_stat, p_point\n",
    "end"
   ]
  },
  {
   "cell_type": "code",
   "execution_count": 65,
   "id": "6ae22978",
   "metadata": {},
   "outputs": [
    {
     "name": "stdout",
     "output_type": "stream",
     "text": [
      "統計量: 9.167\n",
      "上側パーセント点(α=0.05): 3.841\n"
     ]
    }
   ],
   "source": [
    "a = 29; b = 80\n",
    "c = 10; d = 94\n",
    "α = 0.05\n",
    "chi_square_stat, p_point = calc_chi_square_stat(a, b, c, d, α)\n",
    "println(\"統計量: \", round(chi_square_stat, digits=3))\n",
    "println(\"上側パーセント点(α=$α): \", round(p_point, digits=3))"
   ]
  },
  {
   "cell_type": "markdown",
   "id": "534d70eb",
   "metadata": {},
   "source": [
    "従って、有意水準5%でグループ間に差があることが認められた。"
   ]
  },
  {
   "cell_type": "markdown",
   "id": "04eaea44",
   "metadata": {},
   "source": [
    "## 例題7.6"
   ]
  },
  {
   "cell_type": "markdown",
   "id": "1eff0652",
   "metadata": {},
   "source": [
    "ある新薬の初期の臨床試験で、新薬20例、対照薬10例に割り当てた。その結果、副作用の有無の結果を得た（それぞれ1例ずつ不採用）。副作用の発生に差があるか。"
   ]
  },
  {
   "cell_type": "code",
   "execution_count": 108,
   "id": "9443cb86",
   "metadata": {},
   "outputs": [
    {
     "data": {
      "text/plain": [
       "6×2 Matrix{Float64}:\n",
       " 0.0  0.00128205\n",
       " 1.0  0.024359\n",
       " 2.0  0.146154\n",
       " 3.0  0.354945\n",
       " 4.0  0.354945\n",
       " 5.0  0.118315"
      ]
     },
     "execution_count": 108,
     "metadata": {},
     "output_type": "execute_result"
    }
   ],
   "source": [
    "n = [19, 9]\n",
    "m = [5, 23]\n",
    "N = sum(n)\n",
    "p = ones(length(as))\n",
    "as = 0:5\n",
    "\n",
    "for a in as\n",
    "    b = n[1] - a\n",
    "    c = m[1] - a\n",
    "    d = n[2] - c\n",
    "    p[a+1] = ((binomial(m[1],a)*binomial(m[2],b)))/binomial(N,n[1])\n",
    "end\n",
    "\n",
    "hcat(as, p)"
   ]
  },
  {
   "cell_type": "code",
   "execution_count": 109,
   "id": "05622116",
   "metadata": {},
   "outputs": [
    {
     "name": "stdout",
     "output_type": "stream",
     "text": [
      "正確な片側p値: 0.026\n",
      "正確な両側p値: 0.051\n"
     ]
    }
   ],
   "source": [
    "正確な片側p値 = p[1] + p[2]\n",
    "正確な両側p値 = 正確な片側p値 * 2\n",
    "println(\"正確な片側p値: \", round(正確な片側p値, digits=3))\n",
    "println(\"正確な両側p値: \", round(正確な両側p値, digits=3))"
   ]
  },
  {
   "cell_type": "markdown",
   "id": "5a3b7341",
   "metadata": {},
   "source": [
    "## 例題7.8"
   ]
  },
  {
   "cell_type": "markdown",
   "id": "5871fd32",
   "metadata": {},
   "source": [
    "アセプトロールの狭心症に対する治療効果について二重盲検法でクロスオーバー法を用いて検討した。対照薬としてはアルプリノロールを用い、患者は54名を対象とした。改善度に有意差が認められるか。"
   ]
  },
  {
   "cell_type": "code",
   "execution_count": null,
   "id": "03c00557",
   "metadata": {},
   "outputs": [],
   "source": []
  },
  {
   "cell_type": "code",
   "execution_count": null,
   "id": "cc228303",
   "metadata": {},
   "outputs": [],
   "source": []
  },
  {
   "cell_type": "code",
   "execution_count": null,
   "id": "cc7fc7bd",
   "metadata": {},
   "outputs": [],
   "source": []
  },
  {
   "cell_type": "code",
   "execution_count": null,
   "id": "05786fa0",
   "metadata": {},
   "outputs": [],
   "source": []
  },
  {
   "cell_type": "code",
   "execution_count": null,
   "id": "228177d3",
   "metadata": {},
   "outputs": [],
   "source": []
  },
  {
   "cell_type": "code",
   "execution_count": null,
   "id": "3e520d49",
   "metadata": {},
   "outputs": [],
   "source": []
  },
  {
   "cell_type": "code",
   "execution_count": null,
   "id": "1a45ede7",
   "metadata": {},
   "outputs": [],
   "source": []
  },
  {
   "cell_type": "code",
   "execution_count": null,
   "id": "2fad4fed",
   "metadata": {},
   "outputs": [],
   "source": []
  }
 ],
 "metadata": {
  "kernelspec": {
   "display_name": "Julia 1.7.0",
   "language": "julia",
   "name": "julia-1.7"
  },
  "language_info": {
   "file_extension": ".jl",
   "mimetype": "application/julia",
   "name": "julia",
   "version": "1.7.2"
  }
 },
 "nbformat": 4,
 "nbformat_minor": 5
}
