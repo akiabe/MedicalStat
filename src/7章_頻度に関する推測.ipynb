{
 "cells": [
  {
   "cell_type": "markdown",
   "id": "4ee30f1d",
   "metadata": {},
   "source": [
    "# 朝倉書店「医学への統計学」7章 頻度に関する推測"
   ]
  },
  {
   "cell_type": "markdown",
   "id": "cb60d8c0",
   "metadata": {},
   "source": [
    "## 7.2　母比率$p$に関する推測"
   ]
  },
  {
   "cell_type": "code",
   "execution_count": 4,
   "id": "d5097c4f",
   "metadata": {},
   "outputs": [
    {
     "name": "stdout",
     "output_type": "stream",
     "text": [
      "(z, pval) = (2.2317769951683486, 1.9599639845400592)\n",
      "(lower, upper) = (0.08303559475913208, 0.1311376335873246)\n"
     ]
    }
   ],
   "source": [
    "using HypothesisTests\n",
    "using Distributions\n",
    "\n",
    "function binomial_test(r, n, p0, α)\n",
    "    phat = r　/　n\n",
    "    diff = abs(phat - p0) - 1/(2*n)\n",
    "    σ = √((p0*(1 - p0))/n)\n",
    "    z = diff / σ\n",
    "    pval = cquantile(Normal(0, 1), α/2)\n",
    "    lower = phat - pval * √((phat*(1 - phat))/n)\n",
    "    upper = phat + pval * √((phat*(1 - phat))/n)\n",
    "    @show z, pval\n",
    "    @show lower, upper\n",
    "end\n",
    "\n",
    "r = 68; n = 635; p0 = 0.082; α = 0.05\n",
    "binomial_test(r, n, p0, α)\n",
    ";"
   ]
  },
  {
   "cell_type": "markdown",
   "id": "d4586545",
   "metadata": {},
   "source": [
    "## 7.3　二つの母比率の差の検定と信頼区間"
   ]
  },
  {
   "cell_type": "code",
   "execution_count": 5,
   "id": "03971f9d",
   "metadata": {},
   "outputs": [
    {
     "name": "stdout",
     "output_type": "stream",
     "text": [
      "(z, pval) = (3.027645444909852, 1.9599639845400592)\n",
      "(lower, upper) = (0.06944234274764742, 0.27036005668777957)\n"
     ]
    }
   ],
   "source": [
    "function diff_binomial_test(r1, r2, n1, n2, α)\n",
    "    phat1 = r1 / n1\n",
    "    phat2 = r2 / n2\n",
    "    pbar = (r1 + r2) / (n1 + n2)\n",
    "    qbar = 1 - pbar\n",
    "    diff = abs(phat1 - phat2) - 0.5*(1/n1 + 1/n2)\n",
    "    σ = √(pbar * qbar * (1/n1 + 1/n2))\n",
    "    z = diff / σ\n",
    "    pval = cquantile(Normal(0, 1), α/2)\n",
    "    lower = phat1 - phat2 - pval * √((phat1*(1-phat1))/n1 +(phat2*(1-phat2))/n2)\n",
    "    upper = phat1 - phat2 + pval * √((phat1*(1-phat1))/n1 +(phat2*(1-phat2))/n2)\n",
    "    @show z, pval\n",
    "    @show lower, upper\n",
    "end\n",
    "\n",
    "r1 = 29; r2 = 10; n1 = 109; n2 = 104; α = 0.05\n",
    "diff_binomial_test(r1, r2, n1, n2, α)\n",
    ";"
   ]
  },
  {
   "cell_type": "markdown",
   "id": "3c1bff15",
   "metadata": {},
   "source": [
    "## 7.4　2 x 2 分割表の$\\chi^2$検定"
   ]
  },
  {
   "cell_type": "code",
   "execution_count": 6,
   "id": "489c70ec",
   "metadata": {},
   "outputs": [
    {
     "name": "stdout",
     "output_type": "stream",
     "text": [
      "(chi_squared, pval) = (9.166636940083375, 6.634896601021213)\n"
     ]
    }
   ],
   "source": [
    "function chi_squared_test(a, b, c, d, α)\n",
    "    n1 = a + b\n",
    "    n2 = c + d\n",
    "    m1 = a + c\n",
    "    m2 = b + d\n",
    "    N = n1 + n2\n",
    "    tmp = N * (abs(a*d - b*c) - 0.5*N)^2\n",
    "    chi_squared = tmp / (n1*n2*m1*m2)\n",
    "    pval = cquantile(Chisq(1), α)\n",
    "    @show chi_squared, pval\n",
    "end\n",
    "\n",
    "a = 29; b = 109 - 29; c = 10; d = 104 - 10; α = 0.01\n",
    "chi_squared_test(a, b, c, d, α)\n",
    ";"
   ]
  },
  {
   "cell_type": "markdown",
   "id": "9486ad87",
   "metadata": {},
   "source": [
    "## 7.5　Fisherの正確な検定"
   ]
  },
  {
   "cell_type": "code",
   "execution_count": 11,
   "id": "c26d9d34",
   "metadata": {},
   "outputs": [
    {
     "name": "stdout",
     "output_type": "stream",
     "text": [
      "(a, prob) = (0, 0.001282051282051282)\n",
      "(a, prob) = (1, 0.02435897435897436)\n",
      "(a, prob) = (2, 0.14615384615384616)\n",
      "(a, prob) = (3, 0.35494505494505496)\n",
      "(a, prob) = (4, 0.35494505494505496)\n",
      "(a, prob) = (5, 0.11831501831501831)\n"
     ]
    }
   ],
   "source": [
    "function fisher_exact_test(a, n1, n2, m1, m2)\n",
    "    b = n1 - a\n",
    "    c = m1 - a\n",
    "    d = n2 - c\n",
    "    N = n1 + n2\n",
    "    prob = (binomial(m1,a) * binomial(m2,b)) / binomial(N,n1)\n",
    "    @show a, prob\n",
    "end\n",
    "\n",
    "as = 0:5; n1 = 19; n2 = 9; m1 = 5; m2 = 23\n",
    "for a in as\n",
    "    fisher_exact_test(a, n1, n2, m1, m2)\n",
    "end\n",
    ";"
   ]
  },
  {
   "cell_type": "code",
   "execution_count": 19,
   "id": "5d713cdb",
   "metadata": {},
   "outputs": [
    {
     "data": {
      "text/plain": [
       "2-element Vector{Float64}:\n",
       " 1.0\n",
       " 0.02435897435897436"
      ]
     },
     "execution_count": 19,
     "metadata": {},
     "output_type": "execute_result"
    }
   ],
   "source": [
    "n1 = 19; n2 = 9; m1 = 5; m2 = 23\n",
    "as = 0:1\n",
    "bs = n1 .- as\n",
    "cs = m1 .- as\n",
    "ds = n2 .- cs\n",
    "N = n1 + n2\n",
    "prob = ones(length(as))\n",
    "for i in length(prob)\n",
    "    prob[i] = (binomial(m1,as[i]) * binomial(m2,bs[i])) / binomial(N,n1)\n",
    "end\n",
    "prob"
   ]
  },
  {
   "cell_type": "code",
   "execution_count": null,
   "id": "d85873e0",
   "metadata": {},
   "outputs": [],
   "source": [
    "function mid_pval_fisher_exact_test(as, n1, n2, m1, m2)\n",
    "    bs = n1 - a\n",
    "    c = m1 - a\n",
    "    d = n2 - c\n",
    "    N = n1 + n2\n",
    "    prob = ones(length(a))\n",
    "    for i in length(prob)\n",
    "        for a in as\n",
    "            prob[i] = (binomial(m1,a) * binomial(m2,b)) / binomial(N,n1)\n",
    "        end\n",
    "    end\n",
    "    one_sided_mid_pval = prob[] + 0.5*prob[]\n",
    "    two_sided_mid_pval = one_sided_mid_pval * 2\n",
    "    @show one_sided_mid_pval\n",
    "    @show two_sided_mid_pval \n",
    "end"
   ]
  },
  {
   "cell_type": "code",
   "execution_count": null,
   "id": "73acb82b",
   "metadata": {},
   "outputs": [],
   "source": []
  },
  {
   "cell_type": "markdown",
   "id": "4e6bd164",
   "metadata": {},
   "source": [
    "## 7.6　対応のある場合の二つの母比率の差の検定と信頼区間　"
   ]
  },
  {
   "cell_type": "code",
   "execution_count": null,
   "id": "5e92211f",
   "metadata": {},
   "outputs": [],
   "source": [
    "function pair_diff_binomial_test(a, b, c, d, α)\n",
    "end\n",
    "\n"
   ]
  },
  {
   "cell_type": "code",
   "execution_count": null,
   "id": "260dc13c",
   "metadata": {},
   "outputs": [],
   "source": []
  },
  {
   "cell_type": "code",
   "execution_count": null,
   "id": "fe2ec5b2",
   "metadata": {},
   "outputs": [],
   "source": []
  },
  {
   "cell_type": "markdown",
   "id": "7974967c",
   "metadata": {},
   "source": [
    "## 7.7　適合度の$\\chi^2$検定"
   ]
  },
  {
   "cell_type": "code",
   "execution_count": null,
   "id": "ec24b127",
   "metadata": {},
   "outputs": [],
   "source": []
  },
  {
   "cell_type": "markdown",
   "id": "8c61e1eb",
   "metadata": {},
   "source": [
    "## 7.8　罹患率、死亡率に関する推測"
   ]
  },
  {
   "cell_type": "code",
   "execution_count": null,
   "id": "f7030dcd",
   "metadata": {},
   "outputs": [],
   "source": []
  },
  {
   "cell_type": "markdown",
   "id": "cbe360a8",
   "metadata": {},
   "source": [
    "## 7.9　罹患率、死亡率の差と比に関する推測"
   ]
  },
  {
   "cell_type": "code",
   "execution_count": null,
   "id": "713d2990",
   "metadata": {},
   "outputs": [],
   "source": []
  },
  {
   "cell_type": "markdown",
   "id": "57986cdd",
   "metadata": {},
   "source": [
    "## 7.10　疫学研究と疾病発生リスクの比較指標"
   ]
  },
  {
   "cell_type": "code",
   "execution_count": null,
   "id": "4d49fefa",
   "metadata": {},
   "outputs": [],
   "source": []
  },
  {
   "cell_type": "markdown",
   "id": "e9f22666",
   "metadata": {},
   "source": [
    "## 7.11　順序カテゴリー変数に基づく2群の差のWilcoxonの順位和検定"
   ]
  },
  {
   "cell_type": "code",
   "execution_count": null,
   "id": "37e8f5fd",
   "metadata": {},
   "outputs": [],
   "source": []
  },
  {
   "cell_type": "code",
   "execution_count": null,
   "id": "4b6da72c",
   "metadata": {},
   "outputs": [],
   "source": []
  },
  {
   "cell_type": "code",
   "execution_count": null,
   "id": "dcec292f",
   "metadata": {},
   "outputs": [],
   "source": []
  }
 ],
 "metadata": {
  "kernelspec": {
   "display_name": "Julia 1.7.0",
   "language": "julia",
   "name": "julia-1.7"
  },
  "language_info": {
   "file_extension": ".jl",
   "mimetype": "application/julia",
   "name": "julia",
   "version": "1.7.2"
  }
 },
 "nbformat": 4,
 "nbformat_minor": 5
}
